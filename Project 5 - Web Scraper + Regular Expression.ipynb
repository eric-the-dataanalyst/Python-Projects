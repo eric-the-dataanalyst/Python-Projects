{
 "cells": [
  {
   "cell_type": "code",
   "execution_count": null,
   "id": "4b68d143-ce97-48f6-9dbc-08d78cdf6c1d",
   "metadata": {},
   "outputs": [],
   "source": [
    "# Project 5 - Web Scraper + Regular Expression\n",
    "\n",
    "#1: Get the text into Python.\n",
    "#2: Clean out the data using python or packages.\n",
    "#3: Get the count of the most words used via pandas.\n",
    "#4: Export the data into excel and ensure that the data is clean."
   ]
  },
  {
   "cell_type": "code",
   "execution_count": null,
   "id": "b47cebb1-655f-45fa-ba63-bc0b7459305b",
   "metadata": {},
   "outputs": [],
   "source": [
    "# Overall goal: Finding out the most words that MLK during his Famouns \"I have a dream\" speech. Used for hospitals and personal projects"
   ]
  },
  {
   "cell_type": "code",
   "execution_count": null,
   "id": "af066701-29f5-465a-b70e-e9e41d28b397",
   "metadata": {},
   "outputs": [],
   "source": [
    "# Step 1: import packages"
   ]
  },
  {
   "cell_type": "code",
   "execution_count": 1,
   "id": "cf192d9f-bdcf-474d-8045-e13b9173f936",
   "metadata": {},
   "outputs": [],
   "source": [
    "from bs4 import BeautifulSoup\n",
    "import requests"
   ]
  },
  {
   "cell_type": "code",
   "execution_count": null,
   "id": "470608eb-1ca8-4675-b7f4-1a5730507a49",
   "metadata": {},
   "outputs": [],
   "source": [
    "# Step 2: Creating the url var, page var (ensure it works), html var"
   ]
  },
  {
   "cell_type": "code",
   "execution_count": 5,
   "id": "588b85db-10d1-4d8b-8661-8b15e0484d89",
   "metadata": {},
   "outputs": [],
   "source": [
    "url = r'http://analytictech.com/mb021/mlk.htm'\n",
    "\n",
    "page = requests.get(url)\n",
    "\n",
    "soup = BeautifulSoup(page.text,'html')"
   ]
  },
  {
   "cell_type": "code",
   "execution_count": 7,
   "id": "0352e49c-16a0-47d5-8a3d-06f82e4e43c1",
   "metadata": {
    "scrolled": true
   },
   "outputs": [
    {
     "name": "stdout",
     "output_type": "stream",
     "text": [
      "<!DOCTYPE HTML PUBLIC \"-//IETF//DTD HTML//EN\">\n",
      "<html>\n",
      "<head>\n",
      "<meta content=\"text/html; charset=utf-8\" http-equiv=\"Content-Type\"/>\n",
      "<meta content=\"Microsoft FrontPage 4.0\" name=\"GENERATOR\"/>\n",
      "<title>Martin Luther King Jr.'s 1962 Speech</title>\n",
      "</head>\n",
      "<body alink=\"#FF0000\" bgcolor=\"#FFFFFF\" link=\"#0000FF\" text=\"#000000\" vlink=\"#551A8B\">\n",
      "<h1><font size=\"5\">Transcript of speech by </font><br/>\n",
      "Dr. Martin Luther King Jr. <br/>\n",
      "August 28, 1963. Lincoln Memorial in Washington D.C. </h1>\n",
      "<hr color=\"#008080\" noshade=\"\" size=\"5\"/>\n",
      "<p>I am happy to join with you today in what will go down in\n",
      "history as the greatest demonstration for freedom in the history\n",
      "of our nation. </p>\n",
      "<p>Five score years ago a great American in whose symbolic shadow\n",
      "we stand today signed the Emancipation Proclamation. This\n",
      "momentous decree came as a great beckoning light of hope to\n",
      "millions of Negro slaves who had been seared in the flames of\n",
      "withering injustice. It came as a joyous daybreak to end the long\n",
      "night of their captivity. </p>\n",
      "<p>But one hundred years later the Negro is still not free. One\n",
      "hundred years later the life of the Negro is still sadly crippled\n",
      "by the manacles of segregation and the chains of discrimination. </p>\n",
      "<p>One hundred years later the Negro lives on a lonely island of\n",
      "poverty in the midst of a vast ocean of material prosperity. </p>\n",
      "<p>One hundred years later the Negro is still languishing in the\n",
      "comers of American society and finds himself in exile in his own\n",
      "land. </p>\n",
      "<p>We all have come to this hallowed spot to remind America of\n",
      "the fierce urgency of now. Now is the time to rise from the dark\n",
      "and desolate valley of segregation to the sunlit path of racial\n",
      "justice. Now is the time to change racial injustice to the solid\n",
      "rock of brotherhood. Now is the time to make justice ring out for\n",
      "all of God's children. </p>\n",
      "<p>There will be neither rest nor tranquility in America until\n",
      "the Negro is granted citizenship rights. </p>\n",
      "<p>We must forever conduct our struggle on the high plane of\n",
      "dignity and discipline. We must not allow our creative protest to\n",
      "degenerate into physical violence. Again and again we must rise\n",
      "to the majestic heights of meeting physical force with soul\n",
      "force. </p>\n",
      "<p>And the marvelous new militarism which has engulfed the Negro\n",
      "community must not lead us to a distrust of all white people, for\n",
      "many of our white brothers have evidenced by their presence here\n",
      "today that they have come to realize that their destiny is part\n",
      "of our destiny. </p>\n",
      "<p>So even though we face the difficulties of today and tomorrow\n",
      "I still have a dream. It is a dream deeply rooted in the American\n",
      "dream. </p>\n",
      "<p>I have a dream that one day this nation will rise up and live\n",
      "out the true meaning of its creed: 'We hold these truths to be\n",
      "self-evident; that all men are created equal.\" </p>\n",
      "<p>I have a dream that one day on the red hills of Georgia the\n",
      "sons of former slaves and the sons of former slave owners will be\n",
      "able to sit together at the table of brotherhood. </p>\n",
      "<p>I have a dream that one day even the state of Mississippi, a\n",
      "state sweltering with the heat of injustice, sweltering with the\n",
      "heat of oppression, will be transformed into an oasis of freedom\n",
      "and justice. </p>\n",
      "<p>I have a dream that little children will one day live in a\n",
      "nation where they will not be judged by the color of their skin\n",
      "but by the content of their character. </p>\n",
      "<p>I have a dream today. </p>\n",
      "<p>I have a dream that one day down in Alabama, with its vicious\n",
      "racists, with its Governor having his lips dripping with the\n",
      "words of interposition and nullification, one day right there in\n",
      "Alabama little black boys and black girls will be able to join\n",
      "hands with little white boys and white girls as sisters and\n",
      "brothers. </p>\n",
      "<p>I have a dream today. </p>\n",
      "<p>I have a dream that one day every valley shall be exalted,\n",
      "every hill and mountain shall be made low, the rough places\n",
      "plains, and the crooked places will be made straight, and before\n",
      "the Lord will be revealed, and all flesh shall see it together. </p>\n",
      "<p>This is our hope. This is the faith that I go back to the\n",
      "mount with. With this faith we will be able to hew out of the\n",
      "mountain of despair a stone of hope. With this faith we will be\n",
      "able to transform the genuine discords of our nation into a\n",
      "beautiful symphony of brotherhood. With this faith we will be\n",
      "able to work together, pray together; to struggle together, to go\n",
      "to jail together, to stand up for freedom forever, )mowing that\n",
      "we will be free one day. </p>\n",
      "<p>And I say to you today my friends, let freedom ring. From the\n",
      "prodigious hilltops of New Hampshire, let freedom ring. From the\n",
      "mighty mountains of New York, let freedom ring. From the mighty\n",
      "Alleghenies of Pennsylvania! </p>\n",
      "<p>Let freedom ring from the snow capped Rockies of Colorado! </p>\n",
      "<p>Let freedom ring from the curvaceous slopes of California! </p>\n",
      "<p>But not only there; let freedom ring from the Stone Mountain\n",
      "of Georgia! </p>\n",
      "<p>Let freedom ring from Lookout Mountain in Tennessee! </p>\n",
      "<p>Let freedom ring from every hill and molehill in Mississippi.\n",
      "From every mountainside, let freedom ring. </p>\n",
      "<p>And when this happens, when we allow freedom to ring, when we\n",
      "let it ring from every village and hamlet, from every state and\n",
      "every city, we will be able to speed up that day when all of\n",
      "God's children, black men and white men, Jews and Gentiles,\n",
      "Protestants and Catholics, will be able to join hands and sing in\n",
      "the words of the old Negro spiritual, \"Free at last! Free at\n",
      "last! Thank God almighty, we're free at last!\" </p>\n",
      "</body>\n",
      "</html>\n",
      "\n"
     ]
    }
   ],
   "source": [
    "print(soup)"
   ]
  },
  {
   "cell_type": "code",
   "execution_count": 13,
   "id": "a71c6212-4b63-443a-9182-a5bb3360736a",
   "metadata": {},
   "outputs": [],
   "source": [
    "# Step 3: Finding where the text starts and where it ends using the <p> tag in the html code. Verifying the code and then naming it a variable\n",
    "# rather than the syntax being used"
   ]
  },
  {
   "cell_type": "code",
   "execution_count": 15,
   "id": "82e693ed-2fad-4e73-ae52-e8ec47d4d86a",
   "metadata": {
    "scrolled": true
   },
   "outputs": [],
   "source": [
    "mlk_speech = soup.find_all('p')"
   ]
  },
  {
   "cell_type": "code",
   "execution_count": 19,
   "id": "6436604e-3ad3-45ea-845d-9e162f645714",
   "metadata": {},
   "outputs": [],
   "source": [
    "# Step 4: Breaking up all of the <p> tags. Using a list comprehension"
   ]
  },
  {
   "cell_type": "code",
   "execution_count": 21,
   "id": "2f286145-5b8c-48b0-90ee-4cafc97eb35a",
   "metadata": {
    "scrolled": true
   },
   "outputs": [
    {
     "name": "stdout",
     "output_type": "stream",
     "text": [
      "['I am happy to join with you today in what will go down in\\r\\nhistory as the greatest demonstration for freedom in the history\\r\\nof our nation. ', 'Five score years ago a great American in whose symbolic shadow\\r\\nwe stand today signed the Emancipation Proclamation. This\\r\\nmomentous decree came as a great beckoning light of hope to\\r\\nmillions of Negro slaves who had been seared in the flames of\\r\\nwithering injustice. It came as a joyous daybreak to end the long\\r\\nnight of their captivity. ', 'But one hundred years later the Negro is still not free. One\\r\\nhundred years later the life of the Negro is still sadly crippled\\r\\nby the manacles of segregation and the chains of discrimination. ', 'One hundred years later the Negro lives on a lonely island of\\r\\npoverty in the midst of a vast ocean of material prosperity. ', 'One hundred years later the Negro is still languishing in the\\r\\ncomers of American society and finds himself in exile in his own\\r\\nland. ', \"We all have come to this hallowed spot to remind America of\\r\\nthe fierce urgency of now. Now is the time to rise from the dark\\r\\nand desolate valley of segregation to the sunlit path of racial\\r\\njustice. Now is the time to change racial injustice to the solid\\r\\nrock of brotherhood. Now is the time to make justice ring out for\\r\\nall of God's children. \", 'There will be neither rest nor tranquility in America until\\r\\nthe Negro is granted citizenship rights. ', 'We must forever conduct our struggle on the high plane of\\r\\ndignity and discipline. We must not allow our creative protest to\\r\\ndegenerate into physical violence. Again and again we must rise\\r\\nto the majestic heights of meeting physical force with soul\\r\\nforce. ', 'And the marvelous new militarism which has engulfed the Negro\\r\\ncommunity must not lead us to a distrust of all white people, for\\r\\nmany of our white brothers have evidenced by their presence here\\r\\ntoday that they have come to realize that their destiny is part\\r\\nof our destiny. ', 'So even though we face the difficulties of today and tomorrow\\r\\nI still have a dream. It is a dream deeply rooted in the American\\r\\ndream. ', 'I have a dream that one day this nation will rise up and live\\r\\nout the true meaning of its creed: \\'We hold these truths to be\\r\\nself-evident; that all men are created equal.\" ', 'I have a dream that one day on the red hills of Georgia the\\r\\nsons of former slaves and the sons of former slave owners will be\\r\\nable to sit together at the table of brotherhood. ', 'I have a dream that one day even the state of Mississippi, a\\r\\nstate sweltering with the heat of injustice, sweltering with the\\r\\nheat of oppression, will be transformed into an oasis of freedom\\r\\nand justice. ', 'I have a dream that little children will one day live in a\\r\\nnation where they will not be judged by the color of their skin\\r\\nbut by the content of their character. ', 'I have a dream today. ', 'I have a dream that one day down in Alabama, with its vicious\\r\\nracists, with its Governor having his lips dripping with the\\r\\nwords of interposition and nullification, one day right there in\\r\\nAlabama little black boys and black girls will be able to join\\r\\nhands with little white boys and white girls as sisters and\\r\\nbrothers. ', 'I have a dream today. ', 'I have a dream that one day every valley shall be exalted,\\r\\nevery hill and mountain shall be made low, the rough places\\r\\nplains, and the crooked places will be made straight, and before\\r\\nthe Lord will be revealed, and all flesh shall see it together. ', 'This is our hope. This is the faith that I go back to the\\r\\nmount with. With this faith we will be able to hew out of the\\r\\nmountain of despair a stone of hope. With this faith we will be\\r\\nable to transform the genuine discords of our nation into a\\r\\nbeautiful symphony of brotherhood. With this faith we will be\\r\\nable to work together, pray together; to struggle together, to go\\r\\nto jail together, to stand up for freedom forever, )mowing that\\r\\nwe will be free one day. ', 'And I say to you today my friends, let freedom ring. From the\\r\\nprodigious hilltops of New Hampshire, let freedom ring. From the\\r\\nmighty mountains of New York, let freedom ring. From the mighty\\r\\nAlleghenies of Pennsylvania! ', 'Let freedom ring from the snow capped Rockies of Colorado! ', 'Let freedom ring from the curvaceous slopes of California! ', 'But not only there; let freedom ring from the Stone Mountain\\r\\nof Georgia! ', 'Let freedom ring from Lookout Mountain in Tennessee! ', 'Let freedom ring from every hill and molehill in Mississippi.\\r\\nFrom every mountainside, let freedom ring. ', 'And when this happens, when we allow freedom to ring, when we\\r\\nlet it ring from every village and hamlet, from every state and\\r\\nevery city, we will be able to speed up that day when all of\\r\\nGod\\'s children, black men and white men, Jews and Gentiles,\\r\\nProtestants and Catholics, will be able to join hands and sing in\\r\\nthe words of the old Negro spiritual, \"Free at last! Free at\\r\\nlast! Thank God almighty, we\\'re free at last!\" ']\n"
     ]
    }
   ],
   "source": [
    "speech_combined = [p.text for p in mlk_speech]\n",
    "\n",
    "print(speech_combined)"
   ]
  },
  {
   "cell_type": "code",
   "execution_count": 23,
   "id": "bb1925a8-be23-4ba9-aaff-8e87a2e850e5",
   "metadata": {},
   "outputs": [],
   "source": [
    "# Step 5: Creating all one speech instead of it being broken up. The ', ' in the previous syntax was breaking up the speech. \n",
    "# We only need text here."
   ]
  },
  {
   "cell_type": "code",
   "execution_count": 25,
   "id": "920ae257-7627-4854-929c-818398c0de42",
   "metadata": {
    "scrolled": true
   },
   "outputs": [
    {
     "data": {
      "text/plain": [
       "'I am happy to join with you today in what will go down in\\r\\nhistory as the greatest demonstration for freedom in the history\\r\\nof our nation.  Five score years ago a great American in whose symbolic shadow\\r\\nwe stand today signed the Emancipation Proclamation. This\\r\\nmomentous decree came as a great beckoning light of hope to\\r\\nmillions of Negro slaves who had been seared in the flames of\\r\\nwithering injustice. It came as a joyous daybreak to end the long\\r\\nnight of their captivity.  But one hundred years later the Negro is still not free. One\\r\\nhundred years later the life of the Negro is still sadly crippled\\r\\nby the manacles of segregation and the chains of discrimination.  One hundred years later the Negro lives on a lonely island of\\r\\npoverty in the midst of a vast ocean of material prosperity.  One hundred years later the Negro is still languishing in the\\r\\ncomers of American society and finds himself in exile in his own\\r\\nland.  We all have come to this hallowed spot to remind America of\\r\\nthe fierce urgency of now. Now is the time to rise from the dark\\r\\nand desolate valley of segregation to the sunlit path of racial\\r\\njustice. Now is the time to change racial injustice to the solid\\r\\nrock of brotherhood. Now is the time to make justice ring out for\\r\\nall of God\\'s children.  There will be neither rest nor tranquility in America until\\r\\nthe Negro is granted citizenship rights.  We must forever conduct our struggle on the high plane of\\r\\ndignity and discipline. We must not allow our creative protest to\\r\\ndegenerate into physical violence. Again and again we must rise\\r\\nto the majestic heights of meeting physical force with soul\\r\\nforce.  And the marvelous new militarism which has engulfed the Negro\\r\\ncommunity must not lead us to a distrust of all white people, for\\r\\nmany of our white brothers have evidenced by their presence here\\r\\ntoday that they have come to realize that their destiny is part\\r\\nof our destiny.  So even though we face the difficulties of today and tomorrow\\r\\nI still have a dream. It is a dream deeply rooted in the American\\r\\ndream.  I have a dream that one day this nation will rise up and live\\r\\nout the true meaning of its creed: \\'We hold these truths to be\\r\\nself-evident; that all men are created equal.\"  I have a dream that one day on the red hills of Georgia the\\r\\nsons of former slaves and the sons of former slave owners will be\\r\\nable to sit together at the table of brotherhood.  I have a dream that one day even the state of Mississippi, a\\r\\nstate sweltering with the heat of injustice, sweltering with the\\r\\nheat of oppression, will be transformed into an oasis of freedom\\r\\nand justice.  I have a dream that little children will one day live in a\\r\\nnation where they will not be judged by the color of their skin\\r\\nbut by the content of their character.  I have a dream today.  I have a dream that one day down in Alabama, with its vicious\\r\\nracists, with its Governor having his lips dripping with the\\r\\nwords of interposition and nullification, one day right there in\\r\\nAlabama little black boys and black girls will be able to join\\r\\nhands with little white boys and white girls as sisters and\\r\\nbrothers.  I have a dream today.  I have a dream that one day every valley shall be exalted,\\r\\nevery hill and mountain shall be made low, the rough places\\r\\nplains, and the crooked places will be made straight, and before\\r\\nthe Lord will be revealed, and all flesh shall see it together.  This is our hope. This is the faith that I go back to the\\r\\nmount with. With this faith we will be able to hew out of the\\r\\nmountain of despair a stone of hope. With this faith we will be\\r\\nable to transform the genuine discords of our nation into a\\r\\nbeautiful symphony of brotherhood. With this faith we will be\\r\\nable to work together, pray together; to struggle together, to go\\r\\nto jail together, to stand up for freedom forever, )mowing that\\r\\nwe will be free one day.  And I say to you today my friends, let freedom ring. From the\\r\\nprodigious hilltops of New Hampshire, let freedom ring. From the\\r\\nmighty mountains of New York, let freedom ring. From the mighty\\r\\nAlleghenies of Pennsylvania!  Let freedom ring from the snow capped Rockies of Colorado!  Let freedom ring from the curvaceous slopes of California!  But not only there; let freedom ring from the Stone Mountain\\r\\nof Georgia!  Let freedom ring from Lookout Mountain in Tennessee!  Let freedom ring from every hill and molehill in Mississippi.\\r\\nFrom every mountainside, let freedom ring.  And when this happens, when we allow freedom to ring, when we\\r\\nlet it ring from every village and hamlet, from every state and\\r\\nevery city, we will be able to speed up that day when all of\\r\\nGod\\'s children, black men and white men, Jews and Gentiles,\\r\\nProtestants and Catholics, will be able to join hands and sing in\\r\\nthe words of the old Negro spiritual, \"Free at last! Free at\\r\\nlast! Thank God almighty, we\\'re free at last!\" '"
      ]
     },
     "execution_count": 25,
     "metadata": {},
     "output_type": "execute_result"
    }
   ],
   "source": [
    "' '.join(speech_combined)"
   ]
  },
  {
   "cell_type": "code",
   "execution_count": 27,
   "id": "419dbcb3-fefc-4575-9216-97ae29389db9",
   "metadata": {},
   "outputs": [],
   "source": [
    "# Step 6: Creating it as a variable in order to refer to it quickly rather than the entire syntax"
   ]
  },
  {
   "cell_type": "code",
   "execution_count": 29,
   "id": "80dbb067-bf3a-4892-9fbe-c12083e618cd",
   "metadata": {},
   "outputs": [],
   "source": [
    "string_speech = ' '.join(speech_combined)"
   ]
  },
  {
   "cell_type": "code",
   "execution_count": 31,
   "id": "fd71ba3c-a9dd-4983-a815-5e11db2367af",
   "metadata": {},
   "outputs": [],
   "source": [
    "# Step 7: Data cleaning the \\r\\n. After checking and verifying that it is removed, you'll need to save it \n",
    "# as a variable to ensure that it's easily referrable."
   ]
  },
  {
   "cell_type": "code",
   "execution_count": 37,
   "id": "c6b25d6b-59b2-4710-908f-016d2043b8d9",
   "metadata": {
    "scrolled": true
   },
   "outputs": [],
   "source": [
    "string_speech_cleaned = string_speech.replace('\\r\\n',' ')"
   ]
  },
  {
   "cell_type": "code",
   "execution_count": 44,
   "id": "d8eda681-7dff-4794-80e7-688e006c59a8",
   "metadata": {},
   "outputs": [],
   "source": [
    "# Step 8: Getting rid of all the punctuation "
   ]
  },
  {
   "cell_type": "code",
   "execution_count": 54,
   "id": "07feb60a-acaa-429d-a0d8-c31784a64543",
   "metadata": {
    "scrolled": true
   },
   "outputs": [
    {
     "name": "stdout",
     "output_type": "stream",
     "text": [
      "I am happy to join with you today in what will go down in history as the greatest demonstration for freedom in the history of our nation  Five score years ago a great American in whose symbolic shadow we stand today signed the Emancipation Proclamation This momentous decree came as a great beckoning light of hope to millions of Negro slaves who had been seared in the flames of withering injustice It came as a joyous daybreak to end the long night of their captivity  But one hundred years later the Negro is still not free One hundred years later the life of the Negro is still sadly crippled by the manacles of segregation and the chains of discrimination  One hundred years later the Negro lives on a lonely island of poverty in the midst of a vast ocean of material prosperity  One hundred years later the Negro is still languishing in the comers of American society and finds himself in exile in his own land  We all have come to this hallowed spot to remind America of the fierce urgency of now Now is the time to rise from the dark and desolate valley of segregation to the sunlit path of racial justice Now is the time to change racial injustice to the solid rock of brotherhood Now is the time to make justice ring out for all of Gods children  There will be neither rest nor tranquility in America until the Negro is granted citizenship rights  We must forever conduct our struggle on the high plane of dignity and discipline We must not allow our creative protest to degenerate into physical violence Again and again we must rise to the majestic heights of meeting physical force with soul force  And the marvelous new militarism which has engulfed the Negro community must not lead us to a distrust of all white people for many of our white brothers have evidenced by their presence here today that they have come to realize that their destiny is part of our destiny  So even though we face the difficulties of today and tomorrow I still have a dream It is a dream deeply rooted in the American dream  I have a dream that one day this nation will rise up and live out the true meaning of its creed We hold these truths to be selfevident that all men are created equal  I have a dream that one day on the red hills of Georgia the sons of former slaves and the sons of former slave owners will be able to sit together at the table of brotherhood  I have a dream that one day even the state of Mississippi a state sweltering with the heat of injustice sweltering with the heat of oppression will be transformed into an oasis of freedom and justice  I have a dream that little children will one day live in a nation where they will not be judged by the color of their skin but by the content of their character  I have a dream today  I have a dream that one day down in Alabama with its vicious racists with its Governor having his lips dripping with the words of interposition and nullification one day right there in Alabama little black boys and black girls will be able to join hands with little white boys and white girls as sisters and brothers  I have a dream today  I have a dream that one day every valley shall be exalted every hill and mountain shall be made low the rough places plains and the crooked places will be made straight and before the Lord will be revealed and all flesh shall see it together  This is our hope This is the faith that I go back to the mount with With this faith we will be able to hew out of the mountain of despair a stone of hope With this faith we will be able to transform the genuine discords of our nation into a beautiful symphony of brotherhood With this faith we will be able to work together pray together to struggle together to go to jail together to stand up for freedom forever mowing that we will be free one day  And I say to you today my friends let freedom ring From the prodigious hilltops of New Hampshire let freedom ring From the mighty mountains of New York let freedom ring From the mighty Alleghenies of Pennsylvania  Let freedom ring from the snow capped Rockies of Colorado  Let freedom ring from the curvaceous slopes of California  But not only there let freedom ring from the Stone Mountain of Georgia  Let freedom ring from Lookout Mountain in Tennessee  Let freedom ring from every hill and molehill in Mississippi From every mountainside let freedom ring  And when this happens when we allow freedom to ring when we let it ring from every village and hamlet from every state and every city we will be able to speed up that day when all of Gods children black men and white men Jews and Gentiles Protestants and Catholics will be able to join hands and sing in the words of the old Negro spiritual Free at last Free at last Thank God almighty were free at last \n"
     ]
    }
   ],
   "source": [
    "import re\n",
    "\n",
    "speech_no_punct = re.sub(r'[^\\w\\s]','',string_speech_cleaned)\n",
    "\n",
    "print(speech_no_punct)"
   ]
  },
  {
   "cell_type": "code",
   "execution_count": 56,
   "id": "bd3dfe88-f5f8-46ad-a492-1f4a752d404a",
   "metadata": {},
   "outputs": [],
   "source": [
    "# Step 9: Making it lowercase since the count will be read differently"
   ]
  },
  {
   "cell_type": "code",
   "execution_count": 60,
   "id": "6c0f2a83-cb66-456d-90b0-337adb15284a",
   "metadata": {
    "scrolled": true
   },
   "outputs": [],
   "source": [
    "speech_no_punct_lower = speech_no_punct.lower()"
   ]
  },
  {
   "cell_type": "code",
   "execution_count": 68,
   "id": "9a73528e-fbdb-4f99-a468-eae7258934be",
   "metadata": {},
   "outputs": [],
   "source": [
    "# Step 10: All of the words needs to be in it's own value. Split it off of white space.\n",
    "# Also need to name this as a variable since it is easy to refer to "
   ]
  },
  {
   "cell_type": "code",
   "execution_count": 70,
   "id": "3b72d509-c401-4192-858a-d753bf52f580",
   "metadata": {},
   "outputs": [],
   "source": [
    "speech_broken_out = re.split(r'\\s+', speech_no_punct_lower)"
   ]
  },
  {
   "cell_type": "code",
   "execution_count": 78,
   "id": "7753c6fd-89c0-4cc3-b082-5b5085a91fec",
   "metadata": {},
   "outputs": [],
   "source": [
    "# Step 11: Finding the count of the letters in the speech"
   ]
  },
  {
   "cell_type": "code",
   "execution_count": 80,
   "id": "7e36feca-f36f-4f1d-902c-f187c3cb0b10",
   "metadata": {},
   "outputs": [],
   "source": [
    "import pandas as pd"
   ]
  },
  {
   "cell_type": "code",
   "execution_count": 116,
   "id": "a2540777-7816-402f-b1f8-f50908120475",
   "metadata": {},
   "outputs": [],
   "source": [
    "df = pd.DataFrame(speech_broken_out).value_counts() # Check the values first and then name it df inorder to run it as a package"
   ]
  },
  {
   "cell_type": "code",
   "execution_count": 118,
   "id": "f6e1b6e4-849e-4fe2-a08b-91927adc3291",
   "metadata": {},
   "outputs": [],
   "source": [
    "# Step 12: Exporting it to excel "
   ]
  },
  {
   "cell_type": "code",
   "execution_count": 120,
   "id": "79743a6d-e343-4af5-8bd8-36cedd67eece",
   "metadata": {},
   "outputs": [],
   "source": [
    "df.to_csv(r'C:\\Users\\mejia\\OneDrive\\Documents\\Analyst Builder Notes\\Python Files\\Project 5\\MLK Speech Count.csv', header = 'Counts', \n",
    "          index_label = 'Word')"
   ]
  },
  {
   "cell_type": "code",
   "execution_count": null,
   "id": "4146cd41-c679-41ad-b94a-70ca4a86f493",
   "metadata": {},
   "outputs": [],
   "source": []
  },
  {
   "cell_type": "code",
   "execution_count": null,
   "id": "434eab6a-42e6-4d2a-803f-4abc4471286d",
   "metadata": {},
   "outputs": [],
   "source": []
  },
  {
   "cell_type": "code",
   "execution_count": null,
   "id": "f676e549-96c3-4abc-b14c-81a0ded4f3f8",
   "metadata": {},
   "outputs": [],
   "source": []
  },
  {
   "cell_type": "code",
   "execution_count": null,
   "id": "568eddf6-45f2-4c26-a4df-941cb3df5936",
   "metadata": {},
   "outputs": [],
   "source": []
  },
  {
   "cell_type": "code",
   "execution_count": null,
   "id": "5f003c57-d1db-4527-90e7-985cbe20db6c",
   "metadata": {},
   "outputs": [],
   "source": []
  },
  {
   "cell_type": "code",
   "execution_count": null,
   "id": "b88e09cf-3726-4773-a0f2-a23ecca5eb96",
   "metadata": {},
   "outputs": [],
   "source": []
  },
  {
   "cell_type": "code",
   "execution_count": null,
   "id": "281b57f2-a78c-4472-89d1-fa30060e6d85",
   "metadata": {},
   "outputs": [],
   "source": []
  },
  {
   "cell_type": "code",
   "execution_count": null,
   "id": "93a8e6f8-1835-47e4-9a25-2e7be6e3b4db",
   "metadata": {},
   "outputs": [],
   "source": []
  },
  {
   "cell_type": "code",
   "execution_count": null,
   "id": "1ea57377-3d99-44bf-a2a5-19a449c923fd",
   "metadata": {},
   "outputs": [],
   "source": []
  },
  {
   "cell_type": "code",
   "execution_count": null,
   "id": "b45618ea-fa80-4744-b149-d4f089a761f5",
   "metadata": {},
   "outputs": [],
   "source": []
  },
  {
   "cell_type": "code",
   "execution_count": null,
   "id": "27593717-dce2-4020-9ddb-9693d483ad74",
   "metadata": {},
   "outputs": [],
   "source": []
  },
  {
   "cell_type": "code",
   "execution_count": null,
   "id": "34666550-dc19-42da-83cb-0cd94ec66666",
   "metadata": {},
   "outputs": [],
   "source": []
  },
  {
   "cell_type": "code",
   "execution_count": null,
   "id": "27673907-6eee-4341-89ed-804cb68f05e6",
   "metadata": {},
   "outputs": [],
   "source": []
  },
  {
   "cell_type": "code",
   "execution_count": null,
   "id": "b0209b54-cb01-4bbf-8767-0109364bd355",
   "metadata": {},
   "outputs": [],
   "source": []
  },
  {
   "cell_type": "code",
   "execution_count": null,
   "id": "fdd366cb-bcc5-491d-9000-aea4476c4315",
   "metadata": {},
   "outputs": [],
   "source": []
  },
  {
   "cell_type": "code",
   "execution_count": null,
   "id": "4cd5b467-3fe3-4daf-ad1a-8cc7d7ae7b05",
   "metadata": {},
   "outputs": [],
   "source": []
  },
  {
   "cell_type": "code",
   "execution_count": null,
   "id": "e37a8f08-47a0-4f82-ab55-36f28bfa8bc1",
   "metadata": {},
   "outputs": [],
   "source": []
  },
  {
   "cell_type": "code",
   "execution_count": null,
   "id": "dc0f3eb0-2432-4969-bc88-7abad6736e3d",
   "metadata": {},
   "outputs": [],
   "source": []
  },
  {
   "cell_type": "code",
   "execution_count": null,
   "id": "1faf6dbd-4641-4916-a353-f8839cd06280",
   "metadata": {},
   "outputs": [],
   "source": []
  },
  {
   "cell_type": "code",
   "execution_count": null,
   "id": "950428d7-87d3-46b5-b8f0-b88ce21b8115",
   "metadata": {},
   "outputs": [],
   "source": []
  },
  {
   "cell_type": "code",
   "execution_count": null,
   "id": "8cc1c1fd-92ee-4773-9271-af6ea85fa6f1",
   "metadata": {},
   "outputs": [],
   "source": []
  },
  {
   "cell_type": "code",
   "execution_count": null,
   "id": "47e1329f-b3bf-446b-94c8-a5119dc291d2",
   "metadata": {},
   "outputs": [],
   "source": []
  },
  {
   "cell_type": "code",
   "execution_count": null,
   "id": "561abebc-72f8-4987-b73a-8ed4dd3558cc",
   "metadata": {},
   "outputs": [],
   "source": []
  },
  {
   "cell_type": "code",
   "execution_count": null,
   "id": "2b6fb0f5-14cb-4e25-ae02-bdcb349d63b5",
   "metadata": {},
   "outputs": [],
   "source": []
  },
  {
   "cell_type": "code",
   "execution_count": null,
   "id": "93e93662-5514-4bd2-9ae0-698ce55d07f1",
   "metadata": {},
   "outputs": [],
   "source": []
  },
  {
   "cell_type": "code",
   "execution_count": null,
   "id": "2ca39404-dce3-4a36-b597-19087327a0d1",
   "metadata": {},
   "outputs": [],
   "source": []
  },
  {
   "cell_type": "code",
   "execution_count": null,
   "id": "9754e547-8a4b-4d4b-ad7c-d7d47c5c4a1a",
   "metadata": {},
   "outputs": [],
   "source": []
  },
  {
   "cell_type": "code",
   "execution_count": null,
   "id": "594768a9-6aec-464d-8079-b93cea841a97",
   "metadata": {},
   "outputs": [],
   "source": []
  },
  {
   "cell_type": "code",
   "execution_count": null,
   "id": "61952408-2d7a-46f0-8e8c-8c6b672bcfb1",
   "metadata": {},
   "outputs": [],
   "source": []
  },
  {
   "cell_type": "code",
   "execution_count": null,
   "id": "4c7e655d-9a69-462d-a743-6a5b41ffc74a",
   "metadata": {},
   "outputs": [],
   "source": []
  },
  {
   "cell_type": "code",
   "execution_count": null,
   "id": "eb88f1ee-5f5c-470f-a94e-b0993cb5738e",
   "metadata": {},
   "outputs": [],
   "source": []
  },
  {
   "cell_type": "code",
   "execution_count": null,
   "id": "8a958383-8b85-416c-aac3-007f98dd9bcd",
   "metadata": {},
   "outputs": [],
   "source": []
  },
  {
   "cell_type": "code",
   "execution_count": null,
   "id": "aaec16d8-c520-4909-9e52-f80ac64e8376",
   "metadata": {},
   "outputs": [],
   "source": []
  },
  {
   "cell_type": "code",
   "execution_count": null,
   "id": "204f253a-624b-4921-ab32-fdc12f73039c",
   "metadata": {},
   "outputs": [],
   "source": []
  },
  {
   "cell_type": "code",
   "execution_count": null,
   "id": "14ee958f-4730-46b2-bd07-5634b01e0b2f",
   "metadata": {},
   "outputs": [],
   "source": []
  },
  {
   "cell_type": "code",
   "execution_count": null,
   "id": "1b908558-8b58-486f-93ae-cef77174c649",
   "metadata": {},
   "outputs": [],
   "source": []
  },
  {
   "cell_type": "code",
   "execution_count": null,
   "id": "2f8eebfe-7842-4c85-8ae9-0d1c2a4e21ed",
   "metadata": {},
   "outputs": [],
   "source": []
  },
  {
   "cell_type": "code",
   "execution_count": null,
   "id": "9dfa9d1f-3726-4716-8875-5af0e94e384e",
   "metadata": {},
   "outputs": [],
   "source": []
  },
  {
   "cell_type": "code",
   "execution_count": null,
   "id": "599acf1d-9703-47e6-b9ca-ed2b074a0b72",
   "metadata": {},
   "outputs": [],
   "source": []
  },
  {
   "cell_type": "code",
   "execution_count": null,
   "id": "09c7edf0-e876-4f86-95a6-860d57a23594",
   "metadata": {},
   "outputs": [],
   "source": []
  },
  {
   "cell_type": "code",
   "execution_count": null,
   "id": "540b652a-6cf7-48c5-870c-eeb692bdc313",
   "metadata": {},
   "outputs": [],
   "source": []
  },
  {
   "cell_type": "code",
   "execution_count": null,
   "id": "86a9afd1-17fd-4532-b990-528c9e6945d6",
   "metadata": {},
   "outputs": [],
   "source": []
  },
  {
   "cell_type": "code",
   "execution_count": null,
   "id": "56725541-9175-4f42-a436-f0498203bac8",
   "metadata": {},
   "outputs": [],
   "source": []
  },
  {
   "cell_type": "code",
   "execution_count": null,
   "id": "5bb8fa9e-3886-4875-8905-ab741e5ca6bb",
   "metadata": {},
   "outputs": [],
   "source": []
  },
  {
   "cell_type": "code",
   "execution_count": null,
   "id": "c5f7ca9b-23ae-41d4-a8ff-07caf50e2c5a",
   "metadata": {},
   "outputs": [],
   "source": []
  },
  {
   "cell_type": "code",
   "execution_count": null,
   "id": "879b8447-c68f-4b20-acc9-61b7eed4f249",
   "metadata": {},
   "outputs": [],
   "source": []
  },
  {
   "cell_type": "code",
   "execution_count": null,
   "id": "9938ab63-7ceb-4cfd-8b73-b95ce31ba8df",
   "metadata": {},
   "outputs": [],
   "source": []
  },
  {
   "cell_type": "code",
   "execution_count": null,
   "id": "763e9abd-04de-48dc-933f-c802e5c702f2",
   "metadata": {},
   "outputs": [],
   "source": []
  },
  {
   "cell_type": "code",
   "execution_count": null,
   "id": "73c7e033-4f97-4c25-9d73-66ea8cdefe94",
   "metadata": {},
   "outputs": [],
   "source": []
  }
 ],
 "metadata": {
  "kernelspec": {
   "display_name": "Python 3 (ipykernel)",
   "language": "python",
   "name": "python3"
  },
  "language_info": {
   "codemirror_mode": {
    "name": "ipython",
    "version": 3
   },
   "file_extension": ".py",
   "mimetype": "text/x-python",
   "name": "python",
   "nbconvert_exporter": "python",
   "pygments_lexer": "ipython3",
   "version": "3.12.7"
  }
 },
 "nbformat": 4,
 "nbformat_minor": 5
}
